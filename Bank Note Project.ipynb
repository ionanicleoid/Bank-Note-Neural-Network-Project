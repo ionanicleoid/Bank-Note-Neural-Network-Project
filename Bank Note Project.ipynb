{
 "cells": [
  {
   "cell_type": "markdown",
   "metadata": {},
   "source": [
    "# Bank Note Neural Network Project"
   ]
  },
  {
   "cell_type": "markdown",
   "metadata": {},
   "source": [
    "This project uses a bank note data set to create a model that will distinguish the authenicity of dollar bills. Solving a binary classification problem as we are predicting wether a dollar bill is real or fake. The dataset comes with 4 features: variance,skewness,kurtosis and entropy. These features are calculated by applying mathematical operations over the dollar bill images. The labels are found in the dataframe's class column with 1 representing a fake bill and 0 representing a real bill.\n",
    "\n",
    "The data set is available on Kaggle at: https://www.kaggle.com/vivekgediya/banknote-authenticationcsv\n"
   ]
  },
  {
   "cell_type": "markdown",
   "metadata": {},
   "source": [
    "## Explore the Data"
   ]
  },
  {
   "cell_type": "markdown",
   "metadata": {},
   "source": [
    "The data will be imported and to view the first few lines below before looking at the description below."
   ]
  },
  {
   "cell_type": "code",
   "execution_count": 16,
   "metadata": {},
   "outputs": [
    {
     "data": {
      "text/html": [
       "<div>\n",
       "<style scoped>\n",
       "    .dataframe tbody tr th:only-of-type {\n",
       "        vertical-align: middle;\n",
       "    }\n",
       "\n",
       "    .dataframe tbody tr th {\n",
       "        vertical-align: top;\n",
       "    }\n",
       "\n",
       "    .dataframe thead th {\n",
       "        text-align: right;\n",
       "    }\n",
       "</style>\n",
       "<table border=\"1\" class=\"dataframe\">\n",
       "  <thead>\n",
       "    <tr style=\"text-align: right;\">\n",
       "      <th></th>\n",
       "      <th>variance</th>\n",
       "      <th>skewness</th>\n",
       "      <th>curtosis</th>\n",
       "      <th>entropy</th>\n",
       "      <th>class</th>\n",
       "    </tr>\n",
       "  </thead>\n",
       "  <tbody>\n",
       "    <tr>\n",
       "      <th>0</th>\n",
       "      <td>3.62160</td>\n",
       "      <td>8.6661</td>\n",
       "      <td>-2.8073</td>\n",
       "      <td>-0.44699</td>\n",
       "      <td>0</td>\n",
       "    </tr>\n",
       "    <tr>\n",
       "      <th>1</th>\n",
       "      <td>4.54590</td>\n",
       "      <td>8.1674</td>\n",
       "      <td>-2.4586</td>\n",
       "      <td>-1.46210</td>\n",
       "      <td>0</td>\n",
       "    </tr>\n",
       "    <tr>\n",
       "      <th>2</th>\n",
       "      <td>3.86600</td>\n",
       "      <td>-2.6383</td>\n",
       "      <td>1.9242</td>\n",
       "      <td>0.10645</td>\n",
       "      <td>0</td>\n",
       "    </tr>\n",
       "    <tr>\n",
       "      <th>3</th>\n",
       "      <td>3.45660</td>\n",
       "      <td>9.5228</td>\n",
       "      <td>-4.0112</td>\n",
       "      <td>-3.59440</td>\n",
       "      <td>0</td>\n",
       "    </tr>\n",
       "    <tr>\n",
       "      <th>4</th>\n",
       "      <td>0.32924</td>\n",
       "      <td>-4.4552</td>\n",
       "      <td>4.5718</td>\n",
       "      <td>-0.98880</td>\n",
       "      <td>0</td>\n",
       "    </tr>\n",
       "  </tbody>\n",
       "</table>\n",
       "</div>"
      ],
      "text/plain": [
       "   variance  skewness  curtosis  entropy  class\n",
       "0   3.62160    8.6661   -2.8073 -0.44699      0\n",
       "1   4.54590    8.1674   -2.4586 -1.46210      0\n",
       "2   3.86600   -2.6383    1.9242  0.10645      0\n",
       "3   3.45660    9.5228   -4.0112 -3.59440      0\n",
       "4   0.32924   -4.4552    4.5718 -0.98880      0"
      ]
     },
     "execution_count": 16,
     "metadata": {},
     "output_type": "execute_result"
    }
   ],
   "source": [
    "#import the relevant functions\n",
    "import pandas as pd\n",
    "\n",
    "#read the data set\n",
    "data = pd.read_csv('BankNote_Authentication.csv')\n",
    "\n",
    "#view first few lines of data\n",
    "data.head()"
   ]
  },
  {
   "cell_type": "code",
   "execution_count": 17,
   "metadata": {},
   "outputs": [
    {
     "name": "stdout",
     "output_type": "stream",
     "text": [
      "Dataset stats: \n",
      "           variance     skewness     curtosis      entropy        class\n",
      "count  1372.000000  1372.000000  1372.000000  1372.000000  1372.000000\n",
      "mean      0.433735     1.922353     1.397627    -1.191657     0.444606\n",
      "std       2.842763     5.869047     4.310030     2.101013     0.497103\n",
      "min      -7.042100   -13.773100    -5.286100    -8.548200     0.000000\n",
      "25%      -1.773000    -1.708200    -1.574975    -2.413450     0.000000\n",
      "50%       0.496180     2.319650     0.616630    -0.586650     0.000000\n",
      "75%       2.821475     6.814625     3.179250     0.394810     1.000000\n",
      "max       6.824800    12.951600    17.927400     2.449500     1.000000\n"
     ]
    }
   ],
   "source": [
    "# Describe the data\n",
    "print('Dataset stats: \\n', data.describe())"
   ]
  },
  {
   "cell_type": "markdown",
   "metadata": {},
   "source": [
    "## Constructing a Neural Network "
   ]
  },
  {
   "cell_type": "markdown",
   "metadata": {},
   "source": [
    "One way to perform this binary classification will be construsting a neural network.\n",
    "\n",
    "This will be created with a single neuron as an output. With an input layer with 4 neurons to represent the 4 features in of variance, skewness, curtosis and entrophy. The model's output represents the probability of a pair of coordinates being in one class or another. With the sigmoid activation function squashing the neuron output of the second to last layer to a floating point number between 0 and 1. The model is then compiled before training using stochastic gradient descent as an optimizer and binary cross-entropy as our loss function. "
   ]
  },
  {
   "cell_type": "code",
   "execution_count": 18,
   "metadata": {},
   "outputs": [
    {
     "name": "stdout",
     "output_type": "stream",
     "text": [
      "Model: \"sequential_2\"\n",
      "_________________________________________________________________\n",
      "Layer (type)                 Output Shape              Param #   \n",
      "=================================================================\n",
      "dense_2 (Dense)              (None, 1)                 5         \n",
      "=================================================================\n",
      "Total params: 5\n",
      "Trainable params: 5\n",
      "Non-trainable params: 0\n",
      "_________________________________________________________________\n"
     ]
    }
   ],
   "source": [
    "# Import the sequential model and dense layer\n",
    "from keras.models import Sequential\n",
    "from keras.layers import Dense\n",
    "\n",
    "# create a sequential model\n",
    "model = Sequential()\n",
    "\n",
    "# add the dense layer \n",
    "model.add(Dense(1, input_shape=(4,), activation=\"sigmoid\"))\n",
    "\n",
    "# compile the model\n",
    "model.compile(loss='binary_crossentropy', optimizer=\"sgd\", metrics=['accuracy'])\n",
    "\n",
    "# show summary of model\n",
    "model.summary()"
   ]
  },
  {
   "cell_type": "markdown",
   "metadata": {},
   "source": [
    "## Binary Classification Problem"
   ]
  },
  {
   "cell_type": "markdown",
   "metadata": {},
   "source": [
    "The model is split the data set to create a training set and a testing set with the train_test_split method. \n",
    "It will be trained with the .fit() to find real or fake bills. As we are examining the features of the data we do not need the class column and so we will drop it before splitting the data. It is trained for 20 epochs passing our coordinates and labels as parameters.\n"
   ]
  },
  {
   "cell_type": "code",
   "execution_count": 19,
   "metadata": {},
   "outputs": [
    {
     "name": "stdout",
     "output_type": "stream",
     "text": [
      "Epoch 1/20\n",
      "35/35 [==============================] - 0s 711us/step - loss: 1.2809 - accuracy: 0.5853\n",
      "Epoch 2/20\n",
      "35/35 [==============================] - 0s 703us/step - loss: 0.5466 - accuracy: 0.7414\n",
      "Epoch 3/20\n",
      "35/35 [==============================] - 0s 625us/step - loss: 0.3624 - accuracy: 0.8215\n",
      "Epoch 4/20\n",
      "35/35 [==============================] - 0s 737us/step - loss: 0.2600 - accuracy: 0.8777\n",
      "Epoch 5/20\n",
      "35/35 [==============================] - 0s 684us/step - loss: 0.2166 - accuracy: 0.9203\n",
      "Epoch 6/20\n",
      "35/35 [==============================] - 0s 571us/step - loss: 0.1929 - accuracy: 0.9366\n",
      "Epoch 7/20\n",
      "35/35 [==============================] - 0s 624us/step - loss: 0.1750 - accuracy: 0.9416\n",
      "Epoch 8/20\n",
      "35/35 [==============================] - 0s 681us/step - loss: 0.1757 - accuracy: 0.9423\n",
      "Epoch 9/20\n",
      "35/35 [==============================] - 0s 860us/step - loss: 0.1528 - accuracy: 0.9495\n",
      "Epoch 10/20\n",
      "35/35 [==============================] - 0s 590us/step - loss: 0.1461 - accuracy: 0.9505\n",
      "Epoch 11/20\n",
      "35/35 [==============================] - 0s 676us/step - loss: 0.1302 - accuracy: 0.9575\n",
      "Epoch 12/20\n",
      "35/35 [==============================] - 0s 615us/step - loss: 0.1404 - accuracy: 0.9505\n",
      "Epoch 13/20\n",
      "35/35 [==============================] - 0s 795us/step - loss: 0.1265 - accuracy: 0.9557\n",
      "Epoch 14/20\n",
      "35/35 [==============================] - 0s 530us/step - loss: 0.1325 - accuracy: 0.9524\n",
      "Epoch 15/20\n",
      "35/35 [==============================] - 0s 774us/step - loss: 0.1272 - accuracy: 0.9559\n",
      "Epoch 16/20\n",
      "35/35 [==============================] - 0s 567us/step - loss: 0.1294 - accuracy: 0.9557\n",
      "Epoch 17/20\n",
      "35/35 [==============================] - 0s 723us/step - loss: 0.1222 - accuracy: 0.9601\n",
      "Epoch 18/20\n",
      "35/35 [==============================] - 0s 561us/step - loss: 0.1172 - accuracy: 0.9645\n",
      "Epoch 19/20\n",
      "35/35 [==============================] - 0s 733us/step - loss: 0.1237 - accuracy: 0.9562\n",
      "Epoch 20/20\n",
      "35/35 [==============================] - 0s 593us/step - loss: 0.1126 - accuracy: 0.9672\n"
     ]
    },
    {
     "data": {
      "text/plain": [
       "<tensorflow.python.keras.callbacks.History at 0x7f90d23c23a0>"
      ]
     },
     "execution_count": 19,
     "metadata": {},
     "output_type": "execute_result"
    }
   ],
   "source": [
    "#import relevant packages \n",
    "import numpy as np\n",
    "from sklearn.model_selection import train_test_split\n",
    "\n",
    "# drop the class column and assign it to X\n",
    "X = data.drop('class',axis=1)\n",
    "\n",
    "# assign class column to y \n",
    "y = data['class']\n",
    "\n",
    "# split data set to a train and test set\n",
    "X_train, X_test, y_train, y_test = train_test_split(X, y, test_size = 0.2, random_state = 0)\n",
    "\n",
    "# train model for 20 epochs\n",
    "model.fit(X_train, y_train, epochs = 20)\n"
   ]
  },
  {
   "cell_type": "markdown",
   "metadata": {},
   "source": [
    "The accuracy of the model will be tested with the evaluate() method on the test data where we can see that the model has produced an accuracy of 95% . "
   ]
  },
  {
   "cell_type": "code",
   "execution_count": 20,
   "metadata": {},
   "outputs": [
    {
     "name": "stdout",
     "output_type": "stream",
     "text": [
      "9/9 [==============================] - 0s 770us/step - loss: 0.1153 - accuracy: 0.9527\n",
      "Accuracy: 0.9527272582054138\n"
     ]
    }
   ],
   "source": [
    "# evaluate accuracy on the test set\n",
    "accuracy = model.evaluate(X_test, y_test)[1]\n",
    "\n",
    "# print accuracy\n",
    "print('Accuracy:', accuracy)"
   ]
  },
  {
   "cell_type": "markdown",
   "metadata": {},
   "source": [
    "The results of this project has created a neural network that has over 95% accuracy in predicting if a dollar bill is real or fake."
   ]
  },
  {
   "cell_type": "code",
   "execution_count": null,
   "metadata": {},
   "outputs": [],
   "source": []
  }
 ],
 "metadata": {
  "kernelspec": {
   "display_name": "Python 3",
   "language": "python",
   "name": "python3"
  },
  "language_info": {
   "codemirror_mode": {
    "name": "ipython",
    "version": 3
   },
   "file_extension": ".py",
   "mimetype": "text/x-python",
   "name": "python",
   "nbconvert_exporter": "python",
   "pygments_lexer": "ipython3",
   "version": "3.8.3"
  }
 },
 "nbformat": 4,
 "nbformat_minor": 4
}
